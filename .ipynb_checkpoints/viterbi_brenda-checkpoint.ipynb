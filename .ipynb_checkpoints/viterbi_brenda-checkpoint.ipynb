{
 "cells": [
  {
   "cell_type": "code",
   "execution_count": 46,
   "metadata": {},
   "outputs": [],
   "source": [
    "import numpy as np\n",
    "from numpy.linalg import norm"
   ]
  },
  {
   "cell_type": "code",
   "execution_count": 53,
   "metadata": {},
   "outputs": [
    {
     "name": "stdout",
     "output_type": "stream",
     "text": [
      "[[2]\n",
      " [3]\n",
      " [3]]\n",
      "[[6688]\n",
      " [9136]\n",
      " [9136]]\n",
      "24960.0\n"
     ]
    }
   ],
   "source": [
    "# First example\n",
    "A_1 = np.array([[0.5, 0.5],\n",
    "                [0.4, 0.6]])\n",
    "B_1 = np.array([[0.3, 0.4, 0.3], \n",
    "                [0.4, 0.1, 0.5]])\n",
    "pi_1 = np.array([0.4, 0.6])\n",
    "obs = [0,1,2]\n",
    "\n",
    "# Second example\n",
    "B_2 = np.array([\n",
    "    [0.6, 0.1, 0.2, 0.1],\n",
    "    [0.1, 0.7, 0.1, 0.1],\n",
    "    [0.2, 0, 0.5, 0.3]])\n",
    "obs2 = np.array([0,1,0,2,3,3,3,0,3,3])\n",
    "pi_2 = np.array([0.32352941, 0.26470588, 0.41176471])\n",
    "x = np.array([\n",
    "    [0,1,1],\n",
    "    [1,1,1],\n",
    "    [1,1,1]\n",
    "])\n",
    "y = np.array([\n",
    "    [1],\n",
    "    [1],\n",
    "    [1]\n",
    "])\n",
    "f = np.dot(x,y)\n",
    "print(f)\n",
    "\n",
    "v = 0\n",
    "p = np.dot(x, y)\n",
    "normal = 0\n",
    "for i in range(0,8):\n",
    "    v = np.dot(x, p)\n",
    "    p = v\n",
    "    \n",
    "print(v)\n",
    "print(norm(v,1))"
   ]
  },
  {
   "cell_type": "code",
   "execution_count": 30,
   "metadata": {},
   "outputs": [
    {
     "name": "stdout",
     "output_type": "stream",
     "text": [
      "[[0.32352941]\n",
      " [0.26470588]\n",
      " [0.41176471]]\n"
     ]
    }
   ],
   "source": [
    "A_2 = np.array([ \n",
    "    [0, 0.1, 0.9],\n",
    "    [0.6, 0.1, 0.3],\n",
    "    [0.4, 0.5, 0.1]])\n",
    "y = np.array([ [1/3],\n",
    "      [1/3],\n",
    "      [1/3]])\n",
    "s = 1\n",
    "while(s > 0.0000000005):\n",
    "    a = A_2.T @ y\n",
    "    s = np.sum(np.abs(a - y))\n",
    "    y = a\n",
    "print(y)"
   ]
  },
  {
   "cell_type": "markdown",
   "metadata": {},
   "source": [
    "Forward Algorithm"
   ]
  },
  {
   "cell_type": "code",
   "execution_count": 395,
   "metadata": {},
   "outputs": [],
   "source": [
    "def forward(A, B, pi, obs):\n",
    "        N = A.shape[0]\n",
    "        T = len(obs)\n",
    "\n",
    "        R = np.zeros((N,T))\n",
    "        d1 = pi * B[:, obs[0]]\n",
    "        R[:,0] = d1\n",
    "\n",
    "        for t in range(1, T):\n",
    "            for n in range(N):\n",
    "                d_ti = np.dot(R[:,t-1], (A[:,n]))\n",
    "                a_ij = B[n, obs[t]]\n",
    "                delta = round(d_ti * a_ij, 4)\n",
    "                R[n,t] = delta\n",
    "                \n",
    "        return np.sum(R[:, -1])"
   ]
  },
  {
   "cell_type": "code",
   "execution_count": 1,
   "metadata": {},
   "outputs": [
    {
     "ename": "NameError",
     "evalue": "name 'forward' is not defined",
     "output_type": "error",
     "traceback": [
      "\u001b[0;31m---------------------------------------------------------------------------\u001b[0m",
      "\u001b[0;31mNameError\u001b[0m                                 Traceback (most recent call last)",
      "\u001b[0;32m<ipython-input-1-27dfe221d409>\u001b[0m in \u001b[0;36m<module>\u001b[0;34m()\u001b[0m\n\u001b[0;32m----> 1\u001b[0;31m \u001b[0mforward\u001b[0m\u001b[0;34m(\u001b[0m\u001b[0mA_1\u001b[0m\u001b[0;34m,\u001b[0m \u001b[0mB_1\u001b[0m\u001b[0;34m,\u001b[0m \u001b[0mpi_1\u001b[0m\u001b[0;34m,\u001b[0m \u001b[0mobs\u001b[0m\u001b[0;34m)\u001b[0m\u001b[0;34m\u001b[0m\u001b[0m\n\u001b[0m",
      "\u001b[0;31mNameError\u001b[0m: name 'forward' is not defined"
     ]
    }
   ],
   "source": [
    "forward(A_1, B_1, pi_1, obs)"
   ]
  },
  {
   "cell_type": "code",
   "execution_count": 405,
   "metadata": {},
   "outputs": [],
   "source": [
    "def viterbi(A, B, obs, pi):\n",
    "    N = A.shape[0]\n",
    "    print(N)\n",
    "    T = len(obs)\n",
    "    prev = np.zeros((T - 1, N), dtype=int)\n",
    "    V = np.zeros((N, T))\n",
    "    V[:,0] = pi * B[:,obs[0]]\n",
    "\n",
    "    for t in range(1, T):\n",
    "        for n in range(N):\n",
    "            seq_probs = V[:,t-1] * A[:,n] * B[n, obs[t]]\n",
    "            prev[t-1,n] = np.argmax(seq_probs)\n",
    "            V[n,t] = np.max(seq_probs)\n",
    "    return V, prev\n",
    "\n",
    "def path(prev, last_state):\n",
    "        T = len(prev)\n",
    "        yield(last_state)\n",
    "        for i in range(T-1, -1, -1):\n",
    "            yield(prev[i, last_state])\n",
    "            last_state = prev[i, last_state]"
   ]
  },
  {
   "cell_type": "code",
   "execution_count": 406,
   "metadata": {},
   "outputs": [
    {
     "name": "stdout",
     "output_type": "stream",
     "text": [
      "3\n",
      "1\n",
      "[1, 2, 0, 1, 2, 0, 2, 0, 1, 2]\n"
     ]
    }
   ],
   "source": [
    "V, prev = viterbi(A_2, B_2, obs2, pi_2)\n",
    "last_state = np.argmax(V[:,-1])\n",
    "print(last_state)\n",
    "path = list(path(prev, last_state))\n",
    "print(path)"
   ]
  }
 ],
 "metadata": {
  "kernelspec": {
   "display_name": "Python 3",
   "language": "python",
   "name": "python3"
  },
  "language_info": {
   "codemirror_mode": {
    "name": "ipython",
    "version": 3
   },
   "file_extension": ".py",
   "mimetype": "text/x-python",
   "name": "python",
   "nbconvert_exporter": "python",
   "pygments_lexer": "ipython3",
   "version": "3.6.4"
  }
 },
 "nbformat": 4,
 "nbformat_minor": 2
}
